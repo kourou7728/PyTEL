{
 "cells": [
  {
   "cell_type": "code",
   "execution_count": 1,
   "id": "b37ac15f",
   "metadata": {},
   "outputs": [],
   "source": [
    "import jieba"
   ]
  },
  {
   "cell_type": "code",
   "execution_count": 2,
   "id": "f2fc67f1",
   "metadata": {},
   "outputs": [],
   "source": [
    "s = \"早上好中國，我手上有冰淇淋，現在我有冰淇淋\""
   ]
  },
  {
   "cell_type": "code",
   "execution_count": 3,
   "id": "1012c1a8",
   "metadata": {},
   "outputs": [
    {
     "data": {
      "text/plain": [
       "<generator object Tokenizer.cut at 0x000001E511F89350>"
      ]
     },
     "execution_count": 3,
     "metadata": {},
     "output_type": "execute_result"
    }
   ],
   "source": [
    "jieba.cut(s,cut_all=True)"
   ]
  },
  {
   "cell_type": "code",
   "execution_count": 4,
   "id": "d9753cce",
   "metadata": {},
   "outputs": [],
   "source": [
    "word_gen = jieba.cut(s,cut_all=True)"
   ]
  },
  {
   "cell_type": "code",
   "execution_count": 5,
   "id": "d8f3fa20",
   "metadata": {},
   "outputs": [
    {
     "name": "stderr",
     "output_type": "stream",
     "text": [
      "Building prefix dict from the default dictionary ...\n",
      "Loading model from cache C:\\Users\\TIMABE~1\\AppData\\Local\\Temp\\jieba.cache\n",
      "Loading model cost 0.662 seconds.\n",
      "Prefix dict has been built successfully.\n"
     ]
    },
    {
     "name": "stdout",
     "output_type": "stream",
     "text": [
      "早上\n",
      "早上好\n",
      "上好\n",
      "中\n",
      "國\n",
      "，\n",
      "我\n",
      "手上\n",
      "上有\n",
      "冰淇淋\n",
      "，\n",
      "現\n",
      "在\n",
      "我\n",
      "有\n",
      "冰淇淋\n"
     ]
    }
   ],
   "source": [
    "for w in word_gen:\n",
    "    print(w)"
   ]
  },
  {
   "cell_type": "code",
   "execution_count": 6,
   "id": "20a26f75",
   "metadata": {},
   "outputs": [],
   "source": [
    "for w in word_gen:\n",
    "    print(w)"
   ]
  },
  {
   "cell_type": "code",
   "execution_count": 7,
   "id": "727e7339",
   "metadata": {},
   "outputs": [],
   "source": [
    "word_gen = jieba.cut(s,cut_all=False)"
   ]
  },
  {
   "cell_type": "code",
   "execution_count": 8,
   "id": "ca65fd67",
   "metadata": {},
   "outputs": [
    {
     "name": "stdout",
     "output_type": "stream",
     "text": [
      "早上好\n",
      "中國\n",
      "，\n",
      "我\n",
      "手上\n",
      "有\n",
      "冰淇淋\n",
      "，\n",
      "現在\n",
      "我\n",
      "有\n",
      "冰淇淋\n"
     ]
    }
   ],
   "source": [
    "for w in word_gen:\n",
    "    print(w)"
   ]
  },
  {
   "cell_type": "code",
   "execution_count": 9,
   "id": "f7c9e1ee",
   "metadata": {},
   "outputs": [],
   "source": [
    "word_gen = jieba.cut(s)"
   ]
  },
  {
   "cell_type": "code",
   "execution_count": 10,
   "id": "b10fc2b4",
   "metadata": {},
   "outputs": [
    {
     "name": "stdout",
     "output_type": "stream",
     "text": [
      "早上好\n",
      "中國\n",
      "，\n",
      "我\n",
      "手上\n",
      "有\n",
      "冰淇淋\n",
      "，\n",
      "現在\n",
      "我\n",
      "有\n",
      "冰淇淋\n"
     ]
    }
   ],
   "source": [
    "for w in word_gen:\n",
    "    print(w)"
   ]
  },
  {
   "cell_type": "code",
   "execution_count": 11,
   "id": "11e3c4d7",
   "metadata": {},
   "outputs": [
    {
     "name": "stdout",
     "output_type": "stream",
     "text": [
      "早上\n",
      "上好\n",
      "早上好\n",
      "中國\n",
      "，\n",
      "我\n",
      "手上\n",
      "有\n",
      "冰淇淋\n",
      "，\n",
      "現在\n",
      "我\n",
      "有\n",
      "冰淇淋\n"
     ]
    }
   ],
   "source": [
    "word_gen = jieba.cut_for_search(s)\n",
    "for w in word_gen:\n",
    "    print(w)"
   ]
  },
  {
   "cell_type": "code",
   "execution_count": 12,
   "id": "9f9a30a9",
   "metadata": {},
   "outputs": [
    {
     "data": {
      "text/plain": [
       "'早上好|中國|，|我|手上|有|冰淇淋|，|現在|我|有|冰淇淋'"
      ]
     },
     "execution_count": 12,
     "metadata": {},
     "output_type": "execute_result"
    }
   ],
   "source": [
    "\"|\".join(jieba.cut(s))"
   ]
  },
  {
   "cell_type": "code",
   "execution_count": 13,
   "id": "41543e15",
   "metadata": {},
   "outputs": [],
   "source": [
    "jieba.load_userdict(\"./mydict.txt\")"
   ]
  },
  {
   "cell_type": "code",
   "execution_count": 14,
   "id": "81c6d226",
   "metadata": {},
   "outputs": [
    {
     "data": {
      "text/plain": [
       "'早上|好中國|，|我|手上|有|冰淇淋|，|現在|我|有|冰淇淋'"
      ]
     },
     "execution_count": 14,
     "metadata": {},
     "output_type": "execute_result"
    }
   ],
   "source": [
    "\"|\".join(jieba.cut(s))"
   ]
  },
  {
   "cell_type": "code",
   "execution_count": null,
   "id": "c42597fc",
   "metadata": {},
   "outputs": [],
   "source": []
  },
  {
   "cell_type": "code",
   "execution_count": null,
   "id": "c83d1ab2",
   "metadata": {},
   "outputs": [],
   "source": []
  },
  {
   "cell_type": "code",
   "execution_count": null,
   "id": "e4b5a129",
   "metadata": {},
   "outputs": [],
   "source": []
  },
  {
   "cell_type": "code",
   "execution_count": null,
   "id": "a43cd186",
   "metadata": {},
   "outputs": [],
   "source": []
  },
  {
   "cell_type": "code",
   "execution_count": null,
   "id": "dd40e312",
   "metadata": {},
   "outputs": [],
   "source": []
  }
 ],
 "metadata": {
  "kernelspec": {
   "display_name": "Python 3 (ipykernel)",
   "language": "python",
   "name": "python3"
  },
  "language_info": {
   "codemirror_mode": {
    "name": "ipython",
    "version": 3
   },
   "file_extension": ".py",
   "mimetype": "text/x-python",
   "name": "python",
   "nbconvert_exporter": "python",
   "pygments_lexer": "ipython3",
   "version": "3.8.10"
  }
 },
 "nbformat": 4,
 "nbformat_minor": 5
}
